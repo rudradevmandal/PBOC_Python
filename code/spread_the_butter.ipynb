{
 "cells": [
  {
   "cell_type": "markdown",
   "metadata": {},
   "source": [
    "# Integrating the master equation, a.k.a spreading the butter"
   ]
  },
  {
   "cell_type": "code",
   "execution_count": 1,
   "metadata": {},
   "outputs": [],
   "source": [
    "import numpy as np  # for numerics\n",
    "import matplotlib.pyplot as plt # to make plots\n",
    "import seaborn as sns # to make plots more appealing\n",
    "\n",
    "sns.set(style=\"darkgrid\") # Gray background with white grid\n",
    "sns.set_context('talk') # Sets default size to the curves and fonts\n",
    "# display plots next to code\n",
    "%matplotlib inline "
   ]
  },
  {
   "cell_type": "markdown",
   "metadata": {},
   "source": [
    "### Define a function to integrate the master equation"
   ]
  },
  {
   "cell_type": "code",
   "execution_count": 3,
   "metadata": {},
   "outputs": [],
   "source": [
    "def master_equation(prob, k, dt):\n",
    "    '''\n",
    "    Integrate the master equation for diffusion in 1D.\n",
    "    \n",
    "    Parameters\n",
    "    ----------\n",
    "    prob : 2D-array\n",
    "        Array in which probabilities will be stored. This should be in the shape of N boxes by N time points.\n",
    "        The first column must have the initial condition.\n",
    "    k : float\n",
    "        Jump rate of particles between boxes in 1/time units.\n",
    "    dt : float\n",
    "        Time step for our integration in the same units as 1/k.\n",
    "        NOTE: This should be sufficiently smaller than 1/k.\n",
    "        \n",
    "    Returns\n",
    "    -------\n",
    "    prob : 2D-array\n",
    "        The time evolution of the probability distribution.\n",
    "    '''\n",
    "    # Figure out the number of boxes and number of time steps\n",
    "    num_boxes, time_points = np.shape(prob)\n",
    "    \n",
    "    # Loop through time points to integrate the master equation\n",
    "    # NOTE: The first time point is already the initial condition\n",
    "    for t in range(1, time_points):\n",
    "        # Dealing with boundaries\n",
    "        # Left boundary\n",
    "        prob[0, t] = prob[0, t-1] + k * dt * prob[1, t-1] - k * dt * prob[0, t-1]\n",
    "        \n",
    "        # Right boundary\n",
    "        prob[-1, t] = prob[-1, t-1] + k * dt * prob[-2, t-1] - k * dt * prob[-1, t-1]\n",
    "        \n",
    "        # Loop through the rest of the grid\n",
    "        for box in range(1, num_boxes - 1):\n",
    "            prob[box, t] = prob[box, t-1] + k * dt * prob[box-1, t-1] + k * dt * prob[box+1, t-1] - \\\n",
    "                            2 * k * dt * prob[box, t-1]\n",
    "            \n",
    "    return prob"
   ]
  },
  {
   "cell_type": "code",
   "execution_count": 4,
   "metadata": {},
   "outputs": [],
   "source": [
    "# Define parameters for master equation\n",
    "k = 5 # Jump frequency in 1 / sec\n",
    "dt = 1 / (10 * k) # Time step sufficiently small\n",
    "num_boxes = 80 # Number of boxes\n",
    "time_steps = 100 # Total time of integration"
   ]
  },
  {
   "cell_type": "markdown",
   "metadata": {},
   "source": [
    "### Now we are ready to integrate the master equation"
   ]
  },
  {
   "cell_type": "code",
   "execution_count": 6,
   "metadata": {},
   "outputs": [],
   "source": [
    "# Initialise matrix prob\n",
    "prob = np.zeros([num_boxes, time_steps])\n",
    "\n",
    "# Set intial condition as delta function\n",
    "initial_position = int(num_boxes / 2) - 1\n",
    "prob[initial_position, 0] = 1\n",
    "\n",
    "# Integrate the master equation\n",
    "prob_int = master_equation(prob, k, dt)"
   ]
  },
  {
   "cell_type": "markdown",
   "metadata": {},
   "source": [
    "### To see if it worked, let's plot different time points"
   ]
  },
  {
   "cell_type": "code",
   "execution_count": 12,
   "metadata": {},
   "outputs": [
    {
     "data": {
      "image/png": "[encoded data removed]",
      "text/plain": [
       "<Figure size 360x432 with 5 Axes>"
      ]
     },
     "metadata": {
      "needs_background": "light"
     },
     "output_type": "display_data"
    }
   ],
   "source": [
    "# Define time points to be plotted\n",
    "time_plot = [0, 1, 10, 50, time_steps - 1]\n",
    "\n",
    "# Initialise plot\n",
    "fig, ax = plt.subplots(len(time_plot), 1, sharex=True,\n",
    "                      figsize=(5,6))\n",
    "\n",
    "# Loop through time points\n",
    "for i, t in enumerate(time_plot):\n",
    "    ax[i].bar(range(prob.shape[0]), prob[:, t])\n",
    "    \n",
    "    # Set title woth time point\n",
    "    ax[i].set_title(r'$t = {:.1f} s$'.format(t * dt))\n",
    "    ax[i].set_ylabel(r'$P(x)$')\n",
    "    \n",
    "ax[-1].set_xlabel('Position')\n",
    "plt.tight_layout()"
   ]
  },
  {
   "cell_type": "code",
   "execution_count": null,
   "metadata": {},
   "outputs": [],
   "source": []
  }
 ],
 "metadata": {
  "kernelspec": {
   "display_name": "Python 3",
   "language": "python",
   "name": "python3"
  },
  "language_info": {
   "codemirror_mode": {
    "name": "ipython",
    "version": 3
   },
   "file_extension": ".py",
   "mimetype": "text/x-python",
   "name": "python",
   "nbconvert_exporter": "python",
   "pygments_lexer": "ipython3",
   "version": "3.7.1"
  }
 },
 "nbformat": 4,
 "nbformat_minor": 2
}
